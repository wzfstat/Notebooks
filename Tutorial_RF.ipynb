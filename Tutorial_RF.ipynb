{
 "cells": [
  {
   "cell_type": "markdown",
   "metadata": {},
   "source": [
    "# 1. Random Forest\n",
    "> Random forests are quite easy to employ for machine learning because they don't require a lot of hyperparameter tuning to perform well. \n",
    "\n",
    "> The most important parameters are **the number of trees** and **tree depth**. \n",
    "\n",
    "> Generally, we do not set the number of trees too high because eventually, the model will reach a plateau in performance and won't improve anymore when adding more trees. \n",
    "\n"
   ]
  },
  {
   "cell_type": "code",
   "execution_count": 1,
   "metadata": {
    "collapsed": false
   },
   "outputs": [],
   "source": [
    "import numpy as np\n",
    "import pandas as pd\n",
    "import matplotlib.pyplot as plt\n",
    "%matplotlib inline\n",
    "from sklearn.metrics import roc_auc_score, confusion_matrix\n",
    "from sklearn.preprocessing import StandardScaler\n",
    "from sklearn.model_selection import train_test_split\n",
    "from sklearn.ensemble import RandomForestClassifier, ExtraTreesClassifier\n",
    "from sklearn.model_selection import GridSearchCV, RandomizedSearchCV, cross_val_score\n",
    "from time import time\n",
    "import itertools"
   ]
  },
  {
   "cell_type": "markdown",
   "metadata": {},
   "source": [
    "## Loading data\n",
    "Here we use the \"last week\" cross-sectional data of the original credit card dataset."
   ]
  },
  {
   "cell_type": "code",
   "execution_count": 2,
   "metadata": {
    "collapsed": true
   },
   "outputs": [],
   "source": [
    "data = pd.read_csv('cross_data.csv')"
   ]
  },
  {
   "cell_type": "code",
   "execution_count": 3,
   "metadata": {
    "collapsed": false
   },
   "outputs": [
    {
     "data": {
      "text/plain": [
       "(106201, 192)"
      ]
     },
     "execution_count": 3,
     "metadata": {},
     "output_type": "execute_result"
    }
   ],
   "source": [
    "data.shape"
   ]
  },
  {
   "cell_type": "markdown",
   "metadata": {},
   "source": [
    "## Preprossing data\n",
    "We do one-hot encoding for the 4 categorical variables and delete time-related variables."
   ]
  },
  {
   "cell_type": "code",
   "execution_count": 4,
   "metadata": {
    "collapsed": true
   },
   "outputs": [],
   "source": [
    "categorical_var = ['age_grp_4L', 'hh_agr_type', 'inc_grp_3L', 'lifestage', 'segment']\n",
    "date_var = ['date', 'time_period', 'date_applied', 'week', 'week_applied', 'month',\n",
    "            'year', 'MLK', 'Presidents', 'Memorial', 'Independence', 'Labor',\n",
    "            'Colombus', 'Veterans', 'Thanksgiving', 'Christmas', 'NewYears']\n",
    "key_var = ['rlb_location_key', 'cif_permanent_key']\n",
    "others = ['offered', 'apply']\n",
    "\n",
    "data = pd.get_dummies(data, columns=categorical_var, prefix_sep=['_' for col in categorical_var])\n",
    "features = list(data.columns)\n",
    "for f in date_var + key_var + others:\n",
    "    features.remove(f)"
   ]
  },
  {
   "cell_type": "code",
   "execution_count": 5,
   "metadata": {
    "collapsed": false
   },
   "outputs": [],
   "source": [
    "y = data['apply']\n",
    "X = data[features] "
   ]
  },
  {
   "cell_type": "markdown",
   "metadata": {},
   "source": [
    "Split the dataset into training and test."
   ]
  },
  {
   "cell_type": "code",
   "execution_count": 6,
   "metadata": {
    "collapsed": true
   },
   "outputs": [],
   "source": [
    "X_trn, X_tst, y_trn, y_tst = train_test_split(X, y, test_size=0.3, random_state=12)"
   ]
  },
  {
   "cell_type": "markdown",
   "metadata": {},
   "source": [
    "## Model fitting using default parameters"
   ]
  },
  {
   "cell_type": "code",
   "execution_count": 7,
   "metadata": {
    "collapsed": false
   },
   "outputs": [
    {
     "name": "stdout",
     "output_type": "stream",
     "text": [
      "Model fitting took 106.58 seconds.\n"
     ]
    }
   ],
   "source": [
    "RF_model = RandomForestClassifier(n_estimators=500, class_weight='balanced', random_state=100)\n",
    "start = time()\n",
    "RF_model.fit(X_trn, y_trn)\n",
    "\n",
    "print(\"Model fitting took %.2f seconds.\" % (time() - start))"
   ]
  },
  {
   "cell_type": "code",
   "execution_count": 12,
   "metadata": {
    "collapsed": false
   },
   "outputs": [
    {
     "name": "stdout",
     "output_type": "stream",
     "text": [
      "AUC: 0.92123\n"
     ]
    }
   ],
   "source": [
    "pred = RF_model.predict_proba(X_tst)[:,1]\n",
    "print(\"AUC:\", round(roc_auc_score(y_tst, pred), 5))"
   ]
  },
  {
   "cell_type": "markdown",
   "metadata": {},
   "source": [
    "The benefit from parallelization."
   ]
  },
  {
   "cell_type": "code",
   "execution_count": 28,
   "metadata": {
    "collapsed": false
   },
   "outputs": [
    {
     "name": "stdout",
     "output_type": "stream",
     "text": [
      "Model fitting took 13.47 seconds using 'n_jobs = -1'.\n",
      "AUC: 0.92123\n"
     ]
    }
   ],
   "source": [
    "RF_model = RandomForestClassifier(n_estimators=500, class_weight='balanced', random_state=100, n_jobs=-1)\n",
    "start = time()\n",
    "RF_model.fit(X_trn, y_trn)\n",
    "\n",
    "print(\"Model fitting took %.2f seconds using 'n_jobs = -1'.\" % (time() - start))\n",
    "pred = RF_model.predict_proba(X_tst)[:,1]\n",
    "print(\"AUC:\", round(roc_auc_score(y_tst, pred), 5))"
   ]
  },
  {
   "cell_type": "markdown",
   "metadata": {},
   "source": [
    "Confusion matrix"
   ]
  },
  {
   "cell_type": "code",
   "execution_count": 14,
   "metadata": {
    "collapsed": true
   },
   "outputs": [],
   "source": [
    "def plot_confusion_matrix(cm, classes,\n",
    "                          normalize=False,\n",
    "                          title='Confusion Matrix',\n",
    "                          cmap=plt.cm.Blues):\n",
    "    \"\"\"\n",
    "    This function prints and plots the confusion matrix.\n",
    "    Normalization can be applied by setting `normalize=True`.\n",
    "    \"\"\"\n",
    "    plt.imshow(cm, interpolation='nearest', cmap=cmap)\n",
    "    plt.title(title)\n",
    "    plt.colorbar()\n",
    "    tick_marks = np.arange(len(classes))\n",
    "    plt.xticks(tick_marks, classes, rotation=45)\n",
    "    plt.yticks(tick_marks, classes)\n",
    "\n",
    "    if normalize:\n",
    "        cm = cm.astype('float') / cm.sum(axis=1)[:, np.newaxis]\n",
    "        print(\"Normalized confusion matrix\")\n",
    "    else:\n",
    "        print('Confusion matrix, without normalization')\n",
    "\n",
    "    print(cm)\n",
    "\n",
    "    thresh = cm.max() / 2.\n",
    "    for i, j in itertools.product(range(cm.shape[0]), range(cm.shape[1])):\n",
    "        plt.text(j, i, cm[i, j],\n",
    "                 horizontalalignment=\"center\",\n",
    "                 color=\"white\" if cm[i, j] > thresh else \"black\")\n",
    "\n",
    "    plt.tight_layout()\n",
    "    plt.ylabel('True label')\n",
    "    plt.xlabel('Predicted label')"
   ]
  },
  {
   "cell_type": "code",
   "execution_count": 19,
   "metadata": {
    "collapsed": false
   },
   "outputs": [
    {
     "name": "stdout",
     "output_type": "stream",
     "text": [
      "Confusion matrix, without normalization\n",
      "[[26906  3404]\n",
      " [  369  1182]]\n"
     ]
    },
    {
     "data": {
      "image/png": "[encoded data removed]",
      "text/plain": [
       "<matplotlib.figure.Figure at 0x7f06473ff080>"
      ]
     },
     "metadata": {},
     "output_type": "display_data"
    }
   ],
   "source": [
    "y_hat = [int(i>0.1) for i in pred]\n",
    "\n",
    "cnf_matrix = confusion_matrix(y_tst, y_hat)\n",
    "plot_confusion_matrix(cnf_matrix, classes=['0','1'], normalize=False)"
   ]
  },
  {
   "cell_type": "markdown",
   "metadata": {},
   "source": [
    "## Plot partial dependence"
   ]
  },
  {
   "cell_type": "code",
   "execution_count": 51,
   "metadata": {
    "collapsed": true
   },
   "outputs": [],
   "source": [
    "def g_partial_dependence(model, X_trn, feature, grid=100, plot=True, output=False):\n",
    "    \"\"\"\n",
    "    This function plots the partial dependence of a specific feature.\n",
    "    If 'grid' is less than the number of feature levels, then use its real levels as the grid.\n",
    "    \"\"\"\n",
    "    avg_prob = []\n",
    "    lb = min(X_trn[feature])\n",
    "    ub = max(X_trn[feature])\n",
    "    if len(np.unique(X_trn[feature])) < grid:\n",
    "        points = list(np.unique(X_trn[feature]))\n",
    "    else:\n",
    "        step = (ub-lb)/(grid-1)\n",
    "        points = np.arange(lb, ub+step, step)\n",
    "    X_trn_p = X_trn.copy()\n",
    "    for p in points:\n",
    "        X_trn_p.loc[:,feature] = p\n",
    "        pred = model.predict_proba(X_trn_p)[:,1]\n",
    "        avg_prob.append(np.mean(pred))\n",
    "    if plot:\n",
    "        plt.plot(points, avg_prob,'b')  \n",
    "        plt.xlabel(feature)\n",
    "        plt.ylabel('avg_prob')\n",
    "        plt.show()\n",
    "    if output:\n",
    "        return list(points), avg_prob"
   ]
  },
  {
   "cell_type": "code",
   "execution_count": 45,
   "metadata": {
    "collapsed": false
   },
   "outputs": [
    {
     "data": {
      "image/png": "[encoded data removed]",
      "text/plain": [
       "<matplotlib.figure.Figure at 0x7f064714a160>"
      ]
     },
     "metadata": {},
     "output_type": "display_data"
    }
   ],
   "source": [
    "g_partial_dependence(RF_model, X_trn, 'rel_tenure', grid=100)"
   ]
  },
  {
   "cell_type": "code",
   "execution_count": 46,
   "metadata": {
    "collapsed": false
   },
   "outputs": [
    {
     "data": {
      "image/png": "[encoded data removed]",
      "text/plain": [
       "<matplotlib.figure.Figure at 0x7f06880f2080>"
      ]
     },
     "metadata": {},
     "output_type": "display_data"
    }
   ],
   "source": [
    "g_partial_dependence(RF_model, X_trn, 'num_prod', grid=50)"
   ]
  },
  {
   "cell_type": "code",
   "execution_count": 50,
   "metadata": {
    "collapsed": false
   },
   "outputs": [
    {
     "data": {
      "image/png": "[encoded data removed]",
      "text/plain": [
       "<matplotlib.figure.Figure at 0x7f062f745b38>"
      ]
     },
     "metadata": {},
     "output_type": "display_data"
    }
   ],
   "source": [
    "g_partial_dependence(RF_model, X_trn, 'fico_heil', grid=100)"
   ]
  },
  {
   "cell_type": "code",
   "execution_count": 52,
   "metadata": {
    "collapsed": false
   },
   "outputs": [
    {
     "data": {
      "image/png": "[encoded data removed]",
      "text/plain": [
       "<matplotlib.figure.Figure at 0x7f0651eee0f0>"
      ]
     },
     "metadata": {},
     "output_type": "display_data"
    }
   ],
   "source": [
    "g_partial_dependence(RF_model, X_trn, 'age_hh', grid=100)"
   ]
  },
  {
   "cell_type": "markdown",
   "metadata": {},
   "source": [
    "## Parameter Tuning\n",
    "Tune hyperparameters using **exact** grid search or **random** grid search."
   ]
  },
  {
   "cell_type": "markdown",
   "metadata": {},
   "source": [
    "![alt text](https://www.analyticsvidhya.com/wp-content/uploads/2016/02/tree-infographic.png)"
   ]
  },
  {
   "cell_type": "code",
   "execution_count": 7,
   "metadata": {
    "collapsed": true
   },
   "outputs": [],
   "source": [
    "def report(results, n_top=5):\n",
    "    for i in range(1, n_top + 1):\n",
    "        candidates = np.flatnonzero(results['rank_test_score'] == i)\n",
    "        for candidate in candidates:\n",
    "            print(\"Model with rank: {0}\".format(i))\n",
    "            print(\"Mean validation score: {0:.3f} (std: {1:.3f})\".format(\n",
    "                  results['mean_test_score'][candidate],\n",
    "                  results['std_test_score'][candidate]))\n",
    "            print(\"Parameters: {0}\".format(results['params'][candidate]))\n",
    "            print(\"\")"
   ]
  },
  {
   "cell_type": "code",
   "execution_count": null,
   "metadata": {
    "collapsed": true
   },
   "outputs": [],
   "source": [
    "RF_model = RandomForestClassifier(n_estimators=500, class_weight='balanced', random_state=100, n_jobs=-1)\n",
    "param_grid = {\"max_depth\": [2,4,6,8,10,12,None],\n",
    "              \"max_features\": [10,12,14,20,40,60,80,100],\n",
    "              \"min_samples_leaf\": [1,2,3,4,5,6],\n",
    "              \"min_samples_split\": [2,4,6,8,10,12],\n",
    "              \"bootstrap\": [True, False]}\n",
    "# grid_search = GridSearchCV(RF_model, param_grid=param_grid, scoring='roc_auc')\n",
    "grid_search = RandomizedSearchCV(RF_model, param_distributions=param_grid, scoring='roc_auc', n_iter=30, n_jobs=-1)\n",
    "start = time()\n",
    "grid_search.fit(X_trn, y_trn)\n",
    "\n",
    "print(\"GridSearchCV took %.2f seconds for %d candidate parameter settings.\"\n",
    "      % (time() - start, len(grid_search.cv_results_['params'])))"
   ]
  },
  {
   "cell_type": "code",
   "execution_count": 33,
   "metadata": {
    "collapsed": false
   },
   "outputs": [
    {
     "name": "stdout",
     "output_type": "stream",
     "text": [
      "Model with rank: 1\n",
      "Mean validation score: 0.924 (std: 0.001)\n",
      "Parameters: {'min_samples_split': 2, 'bootstrap': True, 'max_depth': None, 'min_samples_leaf': 2, 'max_features': 40}\n",
      "\n",
      "Model with rank: 2\n",
      "Mean validation score: 0.924 (std: 0.002)\n",
      "Parameters: {'min_samples_split': 6, 'bootstrap': False, 'max_depth': None, 'min_samples_leaf': 4, 'max_features': 20}\n",
      "\n",
      "Model with rank: 3\n",
      "Mean validation score: 0.919 (std: 0.001)\n",
      "Parameters: {'min_samples_split': 10, 'bootstrap': False, 'max_depth': None, 'min_samples_leaf': 6, 'max_features': 12}\n",
      "\n",
      "Model with rank: 4\n",
      "Mean validation score: 0.919 (std: 0.002)\n",
      "Parameters: {'min_samples_split': 8, 'bootstrap': False, 'max_depth': None, 'min_samples_leaf': 3, 'max_features': 10}\n",
      "\n",
      "Model with rank: 5\n",
      "Mean validation score: 0.917 (std: 0.001)\n",
      "Parameters: {'min_samples_split': 6, 'bootstrap': False, 'max_depth': 12, 'min_samples_leaf': 5, 'max_features': 60}\n",
      "\n"
     ]
    }
   ],
   "source": [
    "report(grid_search.cv_results_, n_top=5)"
   ]
  },
  {
   "cell_type": "markdown",
   "metadata": {},
   "source": [
    "Define a general function to output CV results."
   ]
  },
  {
   "cell_type": "code",
   "execution_count": 6,
   "metadata": {
    "collapsed": true
   },
   "outputs": [],
   "source": [
    "def SearchCV(model, X_trn, y_trn, X_tst, y_tst, param_dict, scoring, n_iter=None):\n",
    "    print('The base model is:\\n', model.set_params())\n",
    "    if n_iter == None:\n",
    "        grid_search = GridSearchCV(model, param_grid=param_dict, scoring=scoring, n_jobs=-1)\n",
    "        start = time()\n",
    "        grid_search.fit(X_trn, y_trn)\n",
    "        print(\"GridSearchCV took %.2f seconds for %d candidate parameter settings.\"\n",
    "              % (time() - start, len(grid_search.cv_results_['params'])))\n",
    "    else:\n",
    "        grid_search = RandomizedSearchCV(model, param_distributions=param_dict, scoring=scoring, n_iter=n_iter, n_jobs=-1)\n",
    "        start = time()\n",
    "        grid_search.fit(X_trn, y_trn)\n",
    "        print(\"RandomizedSearchCV took %.2f seconds for %d candidate parameter settings.\"\n",
    "              % (time() - start, len(grid_search.cv_results_['params'])))\n",
    "    score_trn = []\n",
    "    score_tst = []\n",
    "    for param in grid_search.cv_results_['params']:\n",
    "        model.set_params(**param)\n",
    "        model.fit(X_trn, y_trn)\n",
    "        pred_trn = model.predict_proba(X_trn)[:,1]\n",
    "        pred_tst = model.predict_proba(X_tst)[:,1]\n",
    "        if scoring == 'roc_auc':\n",
    "            score_trn.append((round(roc_auc_score(y_trn, pred_trn), 5)))\n",
    "            score_tst.append((round(roc_auc_score(y_tst, pred_tst), 5)))\n",
    "    df_score = pd.DataFrame({'trn_score':score_trn, 'cv_score':list(grid_search.cv_results_['mean_test_score']), 'tst_score':score_tst})\n",
    "    output = pd.concat([pd.DataFrame(list(grid_search.cv_results_['params'])), df_score], axis=1)\n",
    "    return grid_search, output[list(param_dict.keys()) + ['trn_score','cv_score','tst_score']]     "
   ]
  },
  {
   "cell_type": "markdown",
   "metadata": {},
   "source": [
    "Using \"max_depth\" to control tree complexity"
   ]
  },
  {
   "cell_type": "code",
   "execution_count": 7,
   "metadata": {
    "collapsed": false
   },
   "outputs": [
    {
     "name": "stdout",
     "output_type": "stream",
     "text": [
      "The base model is:\n",
      " RandomForestClassifier(bootstrap=True, class_weight='balanced',\n",
      "            criterion='gini', max_depth=None, max_features='auto',\n",
      "            max_leaf_nodes=None, min_impurity_split=1e-07,\n",
      "            min_samples_leaf=1, min_samples_split=2,\n",
      "            min_weight_fraction_leaf=0.0, n_estimators=500, n_jobs=-1,\n",
      "            oob_score=False, random_state=100, verbose=0, warm_start=False)\n",
      "RandomizedSearchCV took 5425.29 seconds for 30 candidate parameter settings.\n"
     ]
    },
    {
     "data": {
      "text/html": [
       "<div>\n",
       "<table border=\"1\" class=\"dataframe\">\n",
       "  <thead>\n",
       "    <tr style=\"text-align: right;\">\n",
       "      <th></th>\n",
       "      <th>bootstrap</th>\n",
       "      <th>max_depth</th>\n",
       "      <th>max_features</th>\n",
       "      <th>trn_score</th>\n",
       "      <th>cv_score</th>\n",
       "      <th>tst_score</th>\n",
       "    </tr>\n",
       "  </thead>\n",
       "  <tbody>\n",
       "    <tr>\n",
       "      <th>29</th>\n",
       "      <td>True</td>\n",
       "      <td>46</td>\n",
       "      <td>60</td>\n",
       "      <td>1.00000</td>\n",
       "      <td>0.920411</td>\n",
       "      <td>0.92027</td>\n",
       "    </tr>\n",
       "    <tr>\n",
       "      <th>16</th>\n",
       "      <td>True</td>\n",
       "      <td>44</td>\n",
       "      <td>55</td>\n",
       "      <td>1.00000</td>\n",
       "      <td>0.919815</td>\n",
       "      <td>0.92027</td>\n",
       "    </tr>\n",
       "    <tr>\n",
       "      <th>25</th>\n",
       "      <td>True</td>\n",
       "      <td>36</td>\n",
       "      <td>20</td>\n",
       "      <td>1.00000</td>\n",
       "      <td>0.919767</td>\n",
       "      <td>0.92022</td>\n",
       "    </tr>\n",
       "    <tr>\n",
       "      <th>15</th>\n",
       "      <td>True</td>\n",
       "      <td>47</td>\n",
       "      <td>65</td>\n",
       "      <td>1.00000</td>\n",
       "      <td>0.920056</td>\n",
       "      <td>0.92022</td>\n",
       "    </tr>\n",
       "    <tr>\n",
       "      <th>7</th>\n",
       "      <td>True</td>\n",
       "      <td>42</td>\n",
       "      <td>60</td>\n",
       "      <td>1.00000</td>\n",
       "      <td>0.919546</td>\n",
       "      <td>0.92021</td>\n",
       "    </tr>\n",
       "    <tr>\n",
       "      <th>17</th>\n",
       "      <td>False</td>\n",
       "      <td>44</td>\n",
       "      <td>25</td>\n",
       "      <td>1.00000</td>\n",
       "      <td>0.921162</td>\n",
       "      <td>0.91988</td>\n",
       "    </tr>\n",
       "    <tr>\n",
       "      <th>28</th>\n",
       "      <td>False</td>\n",
       "      <td>43</td>\n",
       "      <td>25</td>\n",
       "      <td>1.00000</td>\n",
       "      <td>0.920944</td>\n",
       "      <td>0.91981</td>\n",
       "    </tr>\n",
       "    <tr>\n",
       "      <th>19</th>\n",
       "      <td>True</td>\n",
       "      <td>31</td>\n",
       "      <td>35</td>\n",
       "      <td>1.00000</td>\n",
       "      <td>0.920394</td>\n",
       "      <td>0.91975</td>\n",
       "    </tr>\n",
       "    <tr>\n",
       "      <th>3</th>\n",
       "      <td>True</td>\n",
       "      <td>29</td>\n",
       "      <td>75</td>\n",
       "      <td>0.99989</td>\n",
       "      <td>0.919109</td>\n",
       "      <td>0.91941</td>\n",
       "    </tr>\n",
       "    <tr>\n",
       "      <th>12</th>\n",
       "      <td>True</td>\n",
       "      <td>28</td>\n",
       "      <td>30</td>\n",
       "      <td>0.99999</td>\n",
       "      <td>0.919396</td>\n",
       "      <td>0.91937</td>\n",
       "    </tr>\n",
       "    <tr>\n",
       "      <th>21</th>\n",
       "      <td>True</td>\n",
       "      <td>24</td>\n",
       "      <td>30</td>\n",
       "      <td>0.99987</td>\n",
       "      <td>0.918275</td>\n",
       "      <td>0.91907</td>\n",
       "    </tr>\n",
       "    <tr>\n",
       "      <th>6</th>\n",
       "      <td>False</td>\n",
       "      <td>30</td>\n",
       "      <td>60</td>\n",
       "      <td>1.00000</td>\n",
       "      <td>0.918487</td>\n",
       "      <td>0.91857</td>\n",
       "    </tr>\n",
       "    <tr>\n",
       "      <th>8</th>\n",
       "      <td>False</td>\n",
       "      <td>28</td>\n",
       "      <td>60</td>\n",
       "      <td>1.00000</td>\n",
       "      <td>0.919003</td>\n",
       "      <td>0.91833</td>\n",
       "    </tr>\n",
       "    <tr>\n",
       "      <th>20</th>\n",
       "      <td>False</td>\n",
       "      <td>41</td>\n",
       "      <td>60</td>\n",
       "      <td>1.00000</td>\n",
       "      <td>0.918212</td>\n",
       "      <td>0.91715</td>\n",
       "    </tr>\n",
       "    <tr>\n",
       "      <th>4</th>\n",
       "      <td>True</td>\n",
       "      <td>17</td>\n",
       "      <td>75</td>\n",
       "      <td>0.99702</td>\n",
       "      <td>0.916896</td>\n",
       "      <td>0.91711</td>\n",
       "    </tr>\n",
       "    <tr>\n",
       "      <th>1</th>\n",
       "      <td>True</td>\n",
       "      <td>20</td>\n",
       "      <td>35</td>\n",
       "      <td>0.99930</td>\n",
       "      <td>0.916667</td>\n",
       "      <td>0.91662</td>\n",
       "    </tr>\n",
       "    <tr>\n",
       "      <th>10</th>\n",
       "      <td>False</td>\n",
       "      <td>22</td>\n",
       "      <td>70</td>\n",
       "      <td>0.99987</td>\n",
       "      <td>0.917011</td>\n",
       "      <td>0.91631</td>\n",
       "    </tr>\n",
       "    <tr>\n",
       "      <th>27</th>\n",
       "      <td>True</td>\n",
       "      <td>17</td>\n",
       "      <td>50</td>\n",
       "      <td>0.99734</td>\n",
       "      <td>0.916881</td>\n",
       "      <td>0.91602</td>\n",
       "    </tr>\n",
       "    <tr>\n",
       "      <th>2</th>\n",
       "      <td>False</td>\n",
       "      <td>49</td>\n",
       "      <td>65</td>\n",
       "      <td>1.00000</td>\n",
       "      <td>0.917183</td>\n",
       "      <td>0.91582</td>\n",
       "    </tr>\n",
       "    <tr>\n",
       "      <th>9</th>\n",
       "      <td>False</td>\n",
       "      <td>39</td>\n",
       "      <td>80</td>\n",
       "      <td>1.00000</td>\n",
       "      <td>0.916419</td>\n",
       "      <td>0.91521</td>\n",
       "    </tr>\n",
       "    <tr>\n",
       "      <th>5</th>\n",
       "      <td>True</td>\n",
       "      <td>15</td>\n",
       "      <td>60</td>\n",
       "      <td>0.99390</td>\n",
       "      <td>0.915740</td>\n",
       "      <td>0.91500</td>\n",
       "    </tr>\n",
       "    <tr>\n",
       "      <th>24</th>\n",
       "      <td>False</td>\n",
       "      <td>41</td>\n",
       "      <td>80</td>\n",
       "      <td>1.00000</td>\n",
       "      <td>0.916797</td>\n",
       "      <td>0.91488</td>\n",
       "    </tr>\n",
       "    <tr>\n",
       "      <th>0</th>\n",
       "      <td>False</td>\n",
       "      <td>50</td>\n",
       "      <td>75</td>\n",
       "      <td>1.00000</td>\n",
       "      <td>0.916212</td>\n",
       "      <td>0.91474</td>\n",
       "    </tr>\n",
       "    <tr>\n",
       "      <th>22</th>\n",
       "      <td>False</td>\n",
       "      <td>14</td>\n",
       "      <td>70</td>\n",
       "      <td>0.99535</td>\n",
       "      <td>0.914590</td>\n",
       "      <td>0.91457</td>\n",
       "    </tr>\n",
       "    <tr>\n",
       "      <th>14</th>\n",
       "      <td>False</td>\n",
       "      <td>10</td>\n",
       "      <td>75</td>\n",
       "      <td>0.97224</td>\n",
       "      <td>0.914479</td>\n",
       "      <td>0.91447</td>\n",
       "    </tr>\n",
       "    <tr>\n",
       "      <th>18</th>\n",
       "      <td>True</td>\n",
       "      <td>12</td>\n",
       "      <td>65</td>\n",
       "      <td>0.98212</td>\n",
       "      <td>0.913475</td>\n",
       "      <td>0.91367</td>\n",
       "    </tr>\n",
       "    <tr>\n",
       "      <th>26</th>\n",
       "      <td>False</td>\n",
       "      <td>19</td>\n",
       "      <td>20</td>\n",
       "      <td>0.99927</td>\n",
       "      <td>0.911391</td>\n",
       "      <td>0.91012</td>\n",
       "    </tr>\n",
       "    <tr>\n",
       "      <th>13</th>\n",
       "      <td>True</td>\n",
       "      <td>9</td>\n",
       "      <td>25</td>\n",
       "      <td>0.94912</td>\n",
       "      <td>0.904146</td>\n",
       "      <td>0.90436</td>\n",
       "    </tr>\n",
       "    <tr>\n",
       "      <th>23</th>\n",
       "      <td>False</td>\n",
       "      <td>14</td>\n",
       "      <td>15</td>\n",
       "      <td>0.99325</td>\n",
       "      <td>0.903210</td>\n",
       "      <td>0.90242</td>\n",
       "    </tr>\n",
       "    <tr>\n",
       "      <th>11</th>\n",
       "      <td>True</td>\n",
       "      <td>5</td>\n",
       "      <td>35</td>\n",
       "      <td>0.90930</td>\n",
       "      <td>0.899110</td>\n",
       "      <td>0.90055</td>\n",
       "    </tr>\n",
       "  </tbody>\n",
       "</table>\n",
       "</div>"
      ],
      "text/plain": [
       "   bootstrap  max_depth  max_features  trn_score  cv_score  tst_score\n",
       "29      True         46            60    1.00000  0.920411    0.92027\n",
       "16      True         44            55    1.00000  0.919815    0.92027\n",
       "25      True         36            20    1.00000  0.919767    0.92022\n",
       "15      True         47            65    1.00000  0.920056    0.92022\n",
       "7       True         42            60    1.00000  0.919546    0.92021\n",
       "17     False         44            25    1.00000  0.921162    0.91988\n",
       "28     False         43            25    1.00000  0.920944    0.91981\n",
       "19      True         31            35    1.00000  0.920394    0.91975\n",
       "3       True         29            75    0.99989  0.919109    0.91941\n",
       "12      True         28            30    0.99999  0.919396    0.91937\n",
       "21      True         24            30    0.99987  0.918275    0.91907\n",
       "6      False         30            60    1.00000  0.918487    0.91857\n",
       "8      False         28            60    1.00000  0.919003    0.91833\n",
       "20     False         41            60    1.00000  0.918212    0.91715\n",
       "4       True         17            75    0.99702  0.916896    0.91711\n",
       "1       True         20            35    0.99930  0.916667    0.91662\n",
       "10     False         22            70    0.99987  0.917011    0.91631\n",
       "27      True         17            50    0.99734  0.916881    0.91602\n",
       "2      False         49            65    1.00000  0.917183    0.91582\n",
       "9      False         39            80    1.00000  0.916419    0.91521\n",
       "5       True         15            60    0.99390  0.915740    0.91500\n",
       "24     False         41            80    1.00000  0.916797    0.91488\n",
       "0      False         50            75    1.00000  0.916212    0.91474\n",
       "22     False         14            70    0.99535  0.914590    0.91457\n",
       "14     False         10            75    0.97224  0.914479    0.91447\n",
       "18      True         12            65    0.98212  0.913475    0.91367\n",
       "26     False         19            20    0.99927  0.911391    0.91012\n",
       "13      True          9            25    0.94912  0.904146    0.90436\n",
       "23     False         14            15    0.99325  0.903210    0.90242\n",
       "11      True          5            35    0.90930  0.899110    0.90055"
      ]
     },
     "execution_count": 7,
     "metadata": {},
     "output_type": "execute_result"
    }
   ],
   "source": [
    "RF_model = RandomForestClassifier(n_estimators=500, class_weight='balanced', random_state=100, n_jobs=-1)\n",
    "param_dict = {\"max_depth\": range(5,51),\n",
    "              \"max_features\": range(15,85,5),\n",
    "              \"bootstrap\": [True, False]}\n",
    "grid_search, output = SearchCV(RF_model, X_trn, y_trn, X_tst, y_tst, param_dict, 'roc_auc', n_iter=30)\n",
    "output.sort_values('tst_score', ascending=False)"
   ]
  },
  {
   "cell_type": "markdown",
   "metadata": {},
   "source": [
    "**More elaborate control** using \"min_samples_split\" and \"min_samples_leaf\""
   ]
  },
  {
   "cell_type": "code",
   "execution_count": 8,
   "metadata": {
    "collapsed": false
   },
   "outputs": [
    {
     "name": "stdout",
     "output_type": "stream",
     "text": [
      "The base model is:\n",
      " RandomForestClassifier(bootstrap=True, class_weight='balanced',\n",
      "            criterion='gini', max_depth=None, max_features='auto',\n",
      "            max_leaf_nodes=None, min_impurity_split=1e-07,\n",
      "            min_samples_leaf=1, min_samples_split=2,\n",
      "            min_weight_fraction_leaf=0.0, n_estimators=500, n_jobs=-1,\n",
      "            oob_score=False, random_state=100, verbose=0, warm_start=False)\n",
      "RandomizedSearchCV took 5108.05 seconds for 30 candidate parameter settings.\n"
     ]
    },
    {
     "data": {
      "text/html": [
       "<div>\n",
       "<table border=\"1\" class=\"dataframe\">\n",
       "  <thead>\n",
       "    <tr style=\"text-align: right;\">\n",
       "      <th></th>\n",
       "      <th>bootstrap</th>\n",
       "      <th>min_samples_split</th>\n",
       "      <th>max_features</th>\n",
       "      <th>min_samples_leaf</th>\n",
       "      <th>trn_score</th>\n",
       "      <th>cv_score</th>\n",
       "      <th>tst_score</th>\n",
       "    </tr>\n",
       "  </thead>\n",
       "  <tbody>\n",
       "    <tr>\n",
       "      <th>9</th>\n",
       "      <td>True</td>\n",
       "      <td>4</td>\n",
       "      <td>40</td>\n",
       "      <td>7</td>\n",
       "      <td>0.99899</td>\n",
       "      <td>0.923723</td>\n",
       "      <td>0.92518</td>\n",
       "    </tr>\n",
       "    <tr>\n",
       "      <th>3</th>\n",
       "      <td>True</td>\n",
       "      <td>8</td>\n",
       "      <td>50</td>\n",
       "      <td>5</td>\n",
       "      <td>0.99954</td>\n",
       "      <td>0.924547</td>\n",
       "      <td>0.92493</td>\n",
       "    </tr>\n",
       "    <tr>\n",
       "      <th>1</th>\n",
       "      <td>False</td>\n",
       "      <td>20</td>\n",
       "      <td>40</td>\n",
       "      <td>10</td>\n",
       "      <td>0.99990</td>\n",
       "      <td>0.924396</td>\n",
       "      <td>0.92483</td>\n",
       "    </tr>\n",
       "    <tr>\n",
       "      <th>0</th>\n",
       "      <td>False</td>\n",
       "      <td>6</td>\n",
       "      <td>55</td>\n",
       "      <td>15</td>\n",
       "      <td>0.99942</td>\n",
       "      <td>0.923211</td>\n",
       "      <td>0.92369</td>\n",
       "    </tr>\n",
       "    <tr>\n",
       "      <th>23</th>\n",
       "      <td>False</td>\n",
       "      <td>20</td>\n",
       "      <td>30</td>\n",
       "      <td>3</td>\n",
       "      <td>1.00000</td>\n",
       "      <td>0.922704</td>\n",
       "      <td>0.92326</td>\n",
       "    </tr>\n",
       "    <tr>\n",
       "      <th>4</th>\n",
       "      <td>False</td>\n",
       "      <td>40</td>\n",
       "      <td>55</td>\n",
       "      <td>15</td>\n",
       "      <td>0.99908</td>\n",
       "      <td>0.923279</td>\n",
       "      <td>0.92309</td>\n",
       "    </tr>\n",
       "    <tr>\n",
       "      <th>13</th>\n",
       "      <td>False</td>\n",
       "      <td>20</td>\n",
       "      <td>55</td>\n",
       "      <td>25</td>\n",
       "      <td>0.99700</td>\n",
       "      <td>0.921367</td>\n",
       "      <td>0.92264</td>\n",
       "    </tr>\n",
       "    <tr>\n",
       "      <th>27</th>\n",
       "      <td>True</td>\n",
       "      <td>30</td>\n",
       "      <td>80</td>\n",
       "      <td>20</td>\n",
       "      <td>0.99148</td>\n",
       "      <td>0.921382</td>\n",
       "      <td>0.92256</td>\n",
       "    </tr>\n",
       "    <tr>\n",
       "      <th>25</th>\n",
       "      <td>False</td>\n",
       "      <td>35</td>\n",
       "      <td>20</td>\n",
       "      <td>7</td>\n",
       "      <td>0.99984</td>\n",
       "      <td>0.921214</td>\n",
       "      <td>0.92253</td>\n",
       "    </tr>\n",
       "    <tr>\n",
       "      <th>11</th>\n",
       "      <td>True</td>\n",
       "      <td>15</td>\n",
       "      <td>40</td>\n",
       "      <td>20</td>\n",
       "      <td>0.98970</td>\n",
       "      <td>0.920541</td>\n",
       "      <td>0.92235</td>\n",
       "    </tr>\n",
       "    <tr>\n",
       "      <th>5</th>\n",
       "      <td>False</td>\n",
       "      <td>35</td>\n",
       "      <td>50</td>\n",
       "      <td>25</td>\n",
       "      <td>0.99692</td>\n",
       "      <td>0.921564</td>\n",
       "      <td>0.92228</td>\n",
       "    </tr>\n",
       "    <tr>\n",
       "      <th>14</th>\n",
       "      <td>False</td>\n",
       "      <td>8</td>\n",
       "      <td>70</td>\n",
       "      <td>25</td>\n",
       "      <td>0.99722</td>\n",
       "      <td>0.921390</td>\n",
       "      <td>0.92225</td>\n",
       "    </tr>\n",
       "    <tr>\n",
       "      <th>29</th>\n",
       "      <td>False</td>\n",
       "      <td>2</td>\n",
       "      <td>50</td>\n",
       "      <td>3</td>\n",
       "      <td>1.00000</td>\n",
       "      <td>0.923478</td>\n",
       "      <td>0.92202</td>\n",
       "    </tr>\n",
       "    <tr>\n",
       "      <th>6</th>\n",
       "      <td>True</td>\n",
       "      <td>10</td>\n",
       "      <td>50</td>\n",
       "      <td>25</td>\n",
       "      <td>0.98604</td>\n",
       "      <td>0.920052</td>\n",
       "      <td>0.92190</td>\n",
       "    </tr>\n",
       "    <tr>\n",
       "      <th>2</th>\n",
       "      <td>False</td>\n",
       "      <td>6</td>\n",
       "      <td>80</td>\n",
       "      <td>10</td>\n",
       "      <td>0.99970</td>\n",
       "      <td>0.922386</td>\n",
       "      <td>0.92186</td>\n",
       "    </tr>\n",
       "    <tr>\n",
       "      <th>16</th>\n",
       "      <td>False</td>\n",
       "      <td>25</td>\n",
       "      <td>65</td>\n",
       "      <td>30</td>\n",
       "      <td>0.99526</td>\n",
       "      <td>0.920684</td>\n",
       "      <td>0.92152</td>\n",
       "    </tr>\n",
       "    <tr>\n",
       "      <th>8</th>\n",
       "      <td>False</td>\n",
       "      <td>2</td>\n",
       "      <td>45</td>\n",
       "      <td>35</td>\n",
       "      <td>0.99251</td>\n",
       "      <td>0.920151</td>\n",
       "      <td>0.92109</td>\n",
       "    </tr>\n",
       "    <tr>\n",
       "      <th>7</th>\n",
       "      <td>True</td>\n",
       "      <td>35</td>\n",
       "      <td>20</td>\n",
       "      <td>5</td>\n",
       "      <td>0.99700</td>\n",
       "      <td>0.919552</td>\n",
       "      <td>0.92093</td>\n",
       "    </tr>\n",
       "    <tr>\n",
       "      <th>22</th>\n",
       "      <td>True</td>\n",
       "      <td>30</td>\n",
       "      <td>45</td>\n",
       "      <td>1</td>\n",
       "      <td>0.99946</td>\n",
       "      <td>0.920605</td>\n",
       "      <td>0.92077</td>\n",
       "    </tr>\n",
       "    <tr>\n",
       "      <th>12</th>\n",
       "      <td>False</td>\n",
       "      <td>8</td>\n",
       "      <td>35</td>\n",
       "      <td>30</td>\n",
       "      <td>0.99441</td>\n",
       "      <td>0.919697</td>\n",
       "      <td>0.92073</td>\n",
       "    </tr>\n",
       "    <tr>\n",
       "      <th>21</th>\n",
       "      <td>False</td>\n",
       "      <td>20</td>\n",
       "      <td>40</td>\n",
       "      <td>35</td>\n",
       "      <td>0.99217</td>\n",
       "      <td>0.919538</td>\n",
       "      <td>0.92065</td>\n",
       "    </tr>\n",
       "    <tr>\n",
       "      <th>26</th>\n",
       "      <td>True</td>\n",
       "      <td>8</td>\n",
       "      <td>55</td>\n",
       "      <td>35</td>\n",
       "      <td>0.97807</td>\n",
       "      <td>0.917119</td>\n",
       "      <td>0.92012</td>\n",
       "    </tr>\n",
       "    <tr>\n",
       "      <th>18</th>\n",
       "      <td>True</td>\n",
       "      <td>10</td>\n",
       "      <td>80</td>\n",
       "      <td>35</td>\n",
       "      <td>0.97959</td>\n",
       "      <td>0.917607</td>\n",
       "      <td>0.92003</td>\n",
       "    </tr>\n",
       "    <tr>\n",
       "      <th>15</th>\n",
       "      <td>True</td>\n",
       "      <td>25</td>\n",
       "      <td>15</td>\n",
       "      <td>5</td>\n",
       "      <td>0.99832</td>\n",
       "      <td>0.918232</td>\n",
       "      <td>0.91974</td>\n",
       "    </tr>\n",
       "    <tr>\n",
       "      <th>10</th>\n",
       "      <td>True</td>\n",
       "      <td>25</td>\n",
       "      <td>80</td>\n",
       "      <td>40</td>\n",
       "      <td>0.97584</td>\n",
       "      <td>0.916875</td>\n",
       "      <td>0.91962</td>\n",
       "    </tr>\n",
       "    <tr>\n",
       "      <th>20</th>\n",
       "      <td>False</td>\n",
       "      <td>10</td>\n",
       "      <td>40</td>\n",
       "      <td>1</td>\n",
       "      <td>1.00000</td>\n",
       "      <td>0.919999</td>\n",
       "      <td>0.91911</td>\n",
       "    </tr>\n",
       "    <tr>\n",
       "      <th>17</th>\n",
       "      <td>False</td>\n",
       "      <td>35</td>\n",
       "      <td>15</td>\n",
       "      <td>1</td>\n",
       "      <td>0.99999</td>\n",
       "      <td>0.918106</td>\n",
       "      <td>0.91870</td>\n",
       "    </tr>\n",
       "    <tr>\n",
       "      <th>19</th>\n",
       "      <td>False</td>\n",
       "      <td>10</td>\n",
       "      <td>80</td>\n",
       "      <td>3</td>\n",
       "      <td>0.99999</td>\n",
       "      <td>0.919820</td>\n",
       "      <td>0.91823</td>\n",
       "    </tr>\n",
       "    <tr>\n",
       "      <th>28</th>\n",
       "      <td>True</td>\n",
       "      <td>10</td>\n",
       "      <td>40</td>\n",
       "      <td>40</td>\n",
       "      <td>0.97213</td>\n",
       "      <td>0.915275</td>\n",
       "      <td>0.91782</td>\n",
       "    </tr>\n",
       "    <tr>\n",
       "      <th>24</th>\n",
       "      <td>False</td>\n",
       "      <td>20</td>\n",
       "      <td>80</td>\n",
       "      <td>1</td>\n",
       "      <td>0.99999</td>\n",
       "      <td>0.915268</td>\n",
       "      <td>0.91450</td>\n",
       "    </tr>\n",
       "  </tbody>\n",
       "</table>\n",
       "</div>"
      ],
      "text/plain": [
       "   bootstrap  min_samples_split  max_features  min_samples_leaf  trn_score  \\\n",
       "9       True                  4            40                 7    0.99899   \n",
       "3       True                  8            50                 5    0.99954   \n",
       "1      False                 20            40                10    0.99990   \n",
       "0      False                  6            55                15    0.99942   \n",
       "23     False                 20            30                 3    1.00000   \n",
       "4      False                 40            55                15    0.99908   \n",
       "13     False                 20            55                25    0.99700   \n",
       "27      True                 30            80                20    0.99148   \n",
       "25     False                 35            20                 7    0.99984   \n",
       "11      True                 15            40                20    0.98970   \n",
       "5      False                 35            50                25    0.99692   \n",
       "14     False                  8            70                25    0.99722   \n",
       "29     False                  2            50                 3    1.00000   \n",
       "6       True                 10            50                25    0.98604   \n",
       "2      False                  6            80                10    0.99970   \n",
       "16     False                 25            65                30    0.99526   \n",
       "8      False                  2            45                35    0.99251   \n",
       "7       True                 35            20                 5    0.99700   \n",
       "22      True                 30            45                 1    0.99946   \n",
       "12     False                  8            35                30    0.99441   \n",
       "21     False                 20            40                35    0.99217   \n",
       "26      True                  8            55                35    0.97807   \n",
       "18      True                 10            80                35    0.97959   \n",
       "15      True                 25            15                 5    0.99832   \n",
       "10      True                 25            80                40    0.97584   \n",
       "20     False                 10            40                 1    1.00000   \n",
       "17     False                 35            15                 1    0.99999   \n",
       "19     False                 10            80                 3    0.99999   \n",
       "28      True                 10            40                40    0.97213   \n",
       "24     False                 20            80                 1    0.99999   \n",
       "\n",
       "    cv_score  tst_score  \n",
       "9   0.923723    0.92518  \n",
       "3   0.924547    0.92493  \n",
       "1   0.924396    0.92483  \n",
       "0   0.923211    0.92369  \n",
       "23  0.922704    0.92326  \n",
       "4   0.923279    0.92309  \n",
       "13  0.921367    0.92264  \n",
       "27  0.921382    0.92256  \n",
       "25  0.921214    0.92253  \n",
       "11  0.920541    0.92235  \n",
       "5   0.921564    0.92228  \n",
       "14  0.921390    0.92225  \n",
       "29  0.923478    0.92202  \n",
       "6   0.920052    0.92190  \n",
       "2   0.922386    0.92186  \n",
       "16  0.920684    0.92152  \n",
       "8   0.920151    0.92109  \n",
       "7   0.919552    0.92093  \n",
       "22  0.920605    0.92077  \n",
       "12  0.919697    0.92073  \n",
       "21  0.919538    0.92065  \n",
       "26  0.917119    0.92012  \n",
       "18  0.917607    0.92003  \n",
       "15  0.918232    0.91974  \n",
       "10  0.916875    0.91962  \n",
       "20  0.919999    0.91911  \n",
       "17  0.918106    0.91870  \n",
       "19  0.919820    0.91823  \n",
       "28  0.915275    0.91782  \n",
       "24  0.915268    0.91450  "
      ]
     },
     "execution_count": 8,
     "metadata": {},
     "output_type": "execute_result"
    }
   ],
   "source": [
    "RF_model = RandomForestClassifier(n_estimators=500, class_weight='balanced', random_state=100, n_jobs=-1)\n",
    "param_dict = {\"max_features\": range(15,85,5),\n",
    "              \"min_samples_leaf\": [1,3,5,7,10,15,20,25,30,35,40],\n",
    "              \"min_samples_split\": [2,4,6,8,10,15,20,25,30,35,40],\n",
    "              \"bootstrap\": [True, False]}\n",
    "grid_search, output = SearchCV(RF_model, X_trn, y_trn, X_tst, y_tst, param_dict, 'roc_auc', n_iter=30)\n",
    "output.sort_values('tst_score', ascending=False)"
   ]
  },
  {
   "cell_type": "markdown",
   "metadata": {},
   "source": [
    "## Getting the best model\n"
   ]
  },
  {
   "cell_type": "code",
   "execution_count": 9,
   "metadata": {
    "collapsed": false,
    "scrolled": true
   },
   "outputs": [
    {
     "name": "stdout",
     "output_type": "stream",
     "text": [
      "RandomForestClassifier(bootstrap=True, class_weight='balanced',\n",
      "            criterion='gini', max_depth=None, max_features=50,\n",
      "            max_leaf_nodes=None, min_impurity_split=1e-07,\n",
      "            min_samples_leaf=5, min_samples_split=8,\n",
      "            min_weight_fraction_leaf=0.0, n_estimators=500, n_jobs=-1,\n",
      "            oob_score=False, random_state=100, verbose=0, warm_start=False)\n"
     ]
    }
   ],
   "source": [
    "bestclf = grid_search.best_estimator_\n",
    "print(bestclf)"
   ]
  },
  {
   "cell_type": "code",
   "execution_count": 10,
   "metadata": {
    "collapsed": false
   },
   "outputs": [
    {
     "name": "stdout",
     "output_type": "stream",
     "text": [
      "0.92493\n"
     ]
    }
   ],
   "source": [
    "pred = bestclf.predict_proba(X_tst)[:,1]\n",
    "print(round(roc_auc_score(y_tst, pred), 6))"
   ]
  },
  {
   "cell_type": "markdown",
   "metadata": {},
   "source": [
    "# 2. Extremely Randomized Forest: an efficient alternative"
   ]
  },
  {
   "cell_type": "markdown",
   "metadata": {},
   "source": [
    "In **random forests**, the node splitting rules are based on a best score resulting from selected features at each iteration. \n",
    "\n",
    "In **extremely randomized forests**, a random split is generated on each feature (so there are no computations spent on looking for the best split for each feature) and then the best feature is selected. "
   ]
  },
  {
   "cell_type": "code",
   "execution_count": 46,
   "metadata": {
    "collapsed": true
   },
   "outputs": [],
   "source": [
    "RF_model = RandomForestClassifier(n_estimators=500, max_depth = 10, class_weight='balanced', random_state=100, n_jobs=-1)\n",
    "start = time()\n",
    "RF_model.fit(X_trn, y_trn)\n",
    "RF_time = time() - start\n",
    "pred = RF_model.predict_proba(X_tst)[:,1]\n",
    "RF_auc = roc_auc_score(y_tst, pred)"
   ]
  },
  {
   "cell_type": "code",
   "execution_count": 47,
   "metadata": {
    "collapsed": false
   },
   "outputs": [
    {
     "name": "stdout",
     "output_type": "stream",
     "text": [
      "Random Forest: time 9.15 seconds, AUC 0.89723.\n",
      "Extreme Forest: time 5.82 seconds, AUC 0.87416.\n"
     ]
    }
   ],
   "source": [
    "ET_model = ExtraTreesClassifier(n_estimators=500, max_depth = 10, class_weight='balanced', random_state=100, n_jobs=-1)\n",
    "start = time()\n",
    "ET_model.fit(X_trn, y_trn)\n",
    "ET_time = time() - start\n",
    "pred = ET_model.predict_proba(X_tst)[:,1]\n",
    "ET_auc = roc_auc_score(y_tst, pred)\n",
    "print(\"Random Forest: time %.2f seconds, AUC %.5f.\" % (RF_time, RF_auc))\n",
    "print(\"Extreme Forest: time %.2f seconds, AUC %.5f.\" % (ET_time, ET_auc))"
   ]
  },
  {
   "cell_type": "markdown",
   "metadata": {},
   "source": [
    "# 3. More about (tuning) parameters\n",
    "Enabling the parameter \"class_weight\" will result in \"weighted\" random forests. But the effect of \"weights\" in tree-based models seems unclear, people usually treat it as another tuning parameter in imbalanced datasets. "
   ]
  },
  {
   "cell_type": "markdown",
   "metadata": {},
   "source": [
    "#We also can define a function to help us. \n",
    "~~~~\n",
    "def show_tuning(X_trn, X_tst, y_trn, y_tst, default_params, tuning_para, cand_values, cv=3, scoring='roc_auc', warm_start=False, chk_trn=True):\n",
    "    clf = RandomForestClassifier(**default_params)\n",
    "    trn_auc = []\n",
    "    cv_auc = []\n",
    "    tst_auc = []\n",
    "    for n in cand_values:\n",
    "        clf.set_params(**{tuning_para:n})\n",
    "        if warm_start=True:\n",
    "            clf.set_params(warm_start=True)\n",
    "        clf.fit(X_trn, y_trn)\n",
    "        cv_scores = cross_val_score(clf, X_trn, y_trn, cv=cv, scoring=scoring, n_jobs=-1)\n",
    "        if chk_trn:\n",
    "            pred_trn = clf.predict_proba(X_trn)[:,1]\n",
    "        pred_tst = clf.predict_proba(X_tst)[:,1]\n",
    "        cv_auc.append(np.mean(cv_scores))\n",
    "        if chk_trn:\n",
    "            trn_auc.append(roc_auc_score(y_trn, pred_trn))\n",
    "        tst_auc.append(roc_auc_score(y_tst, pred_tst))\n",
    "    return trn_auc, cv_auc, tst_auc\n",
    "~~~~"
   ]
  },
  {
   "cell_type": "markdown",
   "metadata": {},
   "source": [
    "## (1) Number of trees"
   ]
  },
  {
   "cell_type": "code",
   "execution_count": 58,
   "metadata": {
    "collapsed": false
   },
   "outputs": [
    {
     "data": {
      "text/plain": [
       "RandomForestClassifier(bootstrap=True,\n",
       "            class_weight={0: 1.0521995131064938, 1: 20.157266811279825},\n",
       "            criterion='gini', max_depth=None, max_features=40,\n",
       "            max_leaf_nodes=None, min_impurity_split=1e-07,\n",
       "            min_samples_leaf=2, min_samples_split=2,\n",
       "            min_weight_fraction_leaf=0.0, n_estimators=10, n_jobs=-1,\n",
       "            oob_score=False, random_state=100, verbose=0, warm_start=True)"
      ]
     },
     "execution_count": 58,
     "metadata": {},
     "output_type": "execute_result"
    }
   ],
   "source": [
    "RF_model = RandomForestClassifier(class_weight={0:len(y_trn)/sum(y_trn==0),1:len(y_trn)/sum(y_trn==1)}, \n",
    "                                  random_state=100, n_jobs=-1, warm_start=True)\n",
    "RF_model.set_params(**{'min_samples_split': 2, 'bootstrap': True, 'max_depth': None, 'min_samples_leaf': 2, 'max_features': 40})"
   ]
  },
  {
   "cell_type": "code",
   "execution_count": 59,
   "metadata": {
    "collapsed": false
   },
   "outputs": [],
   "source": [
    "n_est_cand = np.linspace(50,1000,20)\n",
    "n_est_cv_auc = []\n",
    "n_est_trn_auc = []\n",
    "n_est_tst_auc = []\n",
    "for n in n_est_cand:\n",
    "    RF_model.set_params(n_estimators=int(n), warm_start=True)\n",
    "    RF_model.fit(X_trn, y_trn)\n",
    "    cv_scores = cross_val_score(RF_model, X_trn, y_trn, cv=3, scoring='roc_auc', n_jobs=-1)\n",
    "    pred_trn = RF_model.predict_proba(X_trn)[:,1]\n",
    "    pred_tst = RF_model.predict_proba(X_tst)[:,1]\n",
    "    n_est_cv_auc.append(np.mean(cv_scores))\n",
    "    n_est_trn_auc.append(roc_auc_score(y_trn, pred_trn))\n",
    "    n_est_tst_auc.append(roc_auc_score(y_tst, pred_tst))"
   ]
  },
  {
   "cell_type": "code",
   "execution_count": 79,
   "metadata": {
    "collapsed": false,
    "scrolled": true
   },
   "outputs": [
    {
     "data": {
      "image/png": "[encoded data removed]",
      "text/plain": [
       "<matplotlib.figure.Figure at 0x7f7b2d25e080>"
      ]
     },
     "metadata": {},
     "output_type": "display_data"
    }
   ],
   "source": [
    "plt.plot(n_est_cand, n_est_trn_auc,'b', label='training')  \n",
    "plt.plot(n_est_cand, n_est_cv_auc, 'g', label='3-fold CV') \n",
    "plt.plot(n_est_cand, n_est_tst_auc,'r', label='test') \n",
    "plt.ylim((0.91,1.01))\n",
    "plt.xlabel('n_estimators')\n",
    "plt.ylabel('AUC')\n",
    "plt.legend(bbox_to_anchor=(0., 1.02, 1., .102), loc=3,\n",
    "           ncol=3, mode=\"expand\", borderaxespad=0.)\n",
    "plt.show()"
   ]
  },
  {
   "cell_type": "markdown",
   "metadata": {},
   "source": [
    "Since all the training auc's are very close to 1, we delete them."
   ]
  },
  {
   "cell_type": "code",
   "execution_count": 89,
   "metadata": {
    "collapsed": false
   },
   "outputs": [
    {
     "data": {
      "image/png": "[encoded data removed]",
      "text/plain": [
       "<matplotlib.figure.Figure at 0x7f7b2d07edd8>"
      ]
     },
     "metadata": {},
     "output_type": "display_data"
    }
   ],
   "source": [
    "plt.plot(n_est_cand, n_est_cv_auc, 'g', label='3-fold CV') \n",
    "plt.plot(n_est_cand, n_est_tst_auc,'r', label='test') \n",
    "plt.ylim((0.91,0.935))\n",
    "plt.xlabel('n_estimators')\n",
    "plt.ylabel('AUC')\n",
    "plt.legend()\n",
    "plt.show()"
   ]
  },
  {
   "cell_type": "markdown",
   "metadata": {},
   "source": [
    "## (2) Tree depth"
   ]
  },
  {
   "cell_type": "code",
   "execution_count": 10,
   "metadata": {
    "collapsed": false
   },
   "outputs": [],
   "source": [
    "RF_model = RandomForestClassifier(n_estimators=500, class_weight='balanced', random_state=100, n_jobs=-1)\n",
    "\n",
    "depth_cand = np.linspace(2,60,30)\n",
    "depth_cv_auc = []\n",
    "depth_tst_auc = []\n",
    "depth_trn_auc = []\n",
    "for n in depth_cand:\n",
    "    RF_model.set_params(max_depth=int(n))\n",
    "    RF_model.fit(X_trn, y_trn)\n",
    "    cv_scores = cross_val_score(RF_model, X_trn, y_trn, cv=3, scoring='roc_auc', n_jobs=-1)\n",
    "    pred_trn = RF_model.predict_proba(X_trn)[:,1]\n",
    "    pred_tst = RF_model.predict_proba(X_tst)[:,1]\n",
    "    depth_cv_auc.append(np.mean(cv_scores))\n",
    "    depth_trn_auc.append(roc_auc_score(y_trn, pred_trn))\n",
    "    depth_tst_auc.append(roc_auc_score(y_tst, pred_tst))"
   ]
  },
  {
   "cell_type": "code",
   "execution_count": 11,
   "metadata": {
    "collapsed": false
   },
   "outputs": [
    {
     "data": {
      "image/png": "[encoded data removed]",
      "text/plain": [
       "<matplotlib.figure.Figure at 0x7f1e82f3e240>"
      ]
     },
     "metadata": {},
     "output_type": "display_data"
    }
   ],
   "source": [
    "plt.plot(depth_cand, depth_trn_auc, 'b', label='training') \n",
    "plt.plot(depth_cand, depth_cv_auc, 'g', label='3-fold CV') \n",
    "plt.plot(depth_cand, depth_tst_auc,'r', label='test') \n",
    "plt.xlabel('max_depth')\n",
    "plt.ylabel('AUC')\n",
    "plt.legend(loc=4)\n",
    "plt.show()"
   ]
  },
  {
   "cell_type": "markdown",
   "metadata": {},
   "source": [
    "## (3) Max number of features"
   ]
  },
  {
   "cell_type": "code",
   "execution_count": 13,
   "metadata": {
    "collapsed": false
   },
   "outputs": [],
   "source": [
    "RF_model = RandomForestClassifier(n_estimators=500, class_weight='balanced', random_state=100, n_jobs=-1)\n",
    "\n",
    "fea_cand = np.linspace(5,80,16)\n",
    "fea_trn_auc = []\n",
    "fea_cv_auc = []\n",
    "fea_tst_auc = []\n",
    "for n in fea_cand:\n",
    "    RF_model.set_params(max_features=int(n))\n",
    "    RF_model.fit(X_trn, y_trn)\n",
    "    cv_scores = cross_val_score(RF_model, X_trn, y_trn, cv=3, scoring='roc_auc', n_jobs=-1)\n",
    "    pred_trn = RF_model.predict_proba(X_trn)[:,1]\n",
    "    pred_tst = RF_model.predict_proba(X_tst)[:,1]\n",
    "    fea_cv_auc.append(np.mean(cv_scores))\n",
    "    fea_trn_auc.append(roc_auc_score(y_trn, pred_trn))\n",
    "    fea_tst_auc.append(roc_auc_score(y_tst, pred_tst))"
   ]
  },
  {
   "cell_type": "code",
   "execution_count": 17,
   "metadata": {
    "collapsed": false
   },
   "outputs": [
    {
     "data": {
      "image/png": "[encoded data removed]",
      "text/plain": [
       "<matplotlib.figure.Figure at 0x7f1e82d559e8>"
      ]
     },
     "metadata": {},
     "output_type": "display_data"
    }
   ],
   "source": [
    "# plt.plot(fea_cand, fea_trn_auc, 'b', label='training') \n",
    "plt.plot(fea_cand, fea_cv_auc, 'g', label='3-fold CV') \n",
    "plt.plot(fea_cand, fea_tst_auc,'r', label='test') \n",
    "plt.xlabel('max_features')\n",
    "plt.ylabel('AUC')\n",
    "plt.legend(loc=4)\n",
    "plt.show()"
   ]
  },
  {
   "cell_type": "markdown",
   "metadata": {},
   "source": [
    "# 4. Subsampling for big data\n",
    "\n",
    "Both \"RandomForest\" and \"ExtraTrees\" support *warm_start*, which enables us to\n",
    "\n",
    "  >(1) train a forest sequentially (as shown in Sec 3(1)),\n",
    "\n",
    "  >(2) train an ensembled forest with some online/mini-batch flavor.\n",
    "\n",
    "(2) will be helpful for large-scale datasets (impossible to fit in the memory). Of course, we have to use some memory-efficient sampling algorithm."
   ]
  },
  {
   "cell_type": "code",
   "execution_count": 23,
   "metadata": {
    "collapsed": false
   },
   "outputs": [],
   "source": [
    "X_trn_pos = X_trn.loc[y_trn==1,]\n",
    "y_trn_pos = y_trn.loc[y_trn==1]"
   ]
  },
  {
   "cell_type": "code",
   "execution_count": 24,
   "metadata": {
    "collapsed": false
   },
   "outputs": [
    {
     "data": {
      "text/plain": [
       "((3688, 194), (3688,))"
      ]
     },
     "execution_count": 24,
     "metadata": {},
     "output_type": "execute_result"
    }
   ],
   "source": [
    "X_trn_pos.shape, y_trn_pos.shape"
   ]
  },
  {
   "cell_type": "code",
   "execution_count": null,
   "metadata": {
    "collapsed": true
   },
   "outputs": [],
   "source": [
    "X_trn_neg = X_trn.loc[y_trn==0,]\n",
    "y_trn_neg = y_trn.loc[y_trn==0]"
   ]
  },
  {
   "cell_type": "markdown",
   "metadata": {},
   "source": [
    "Subsampling: we divide the whole dataset into 3 subsets. \n",
    "\n",
    "Due to the imbalance, we require each subset to contain all the positive observations."
   ]
  },
  {
   "cell_type": "code",
   "execution_count": 71,
   "metadata": {
    "collapsed": false
   },
   "outputs": [
    {
     "name": "stdout",
     "output_type": "stream",
     "text": [
      "1 test AUC: 0.921075407975 , total time: 5.586766958236694\n",
      "2 test AUC: 0.923225583648 , total time: 11.699950218200684\n",
      "3 test AUC: 0.923534023345 , total time: 18.07475781440735\n"
     ]
    }
   ],
   "source": [
    "batches = 3\n",
    "trees_per_batch = 200\n",
    "\n",
    "start = time()\n",
    "n_neg = X_trn_neg.shape[0]\n",
    "tst_auc = []\n",
    "clf = RandomForestClassifier(n_jobs=-1, warm_start=True)\n",
    "clf.set_params(**{'min_samples_split': 2, 'bootstrap': True, 'max_depth': None, 'min_samples_leaf': 2, 'max_features': 40})\n",
    "for i in range(batches):\n",
    "    X_trn_sub = pd.concat([X_trn_pos, X_trn_neg.iloc[i*int(n_neg/batches):(i+1)*int(n_neg/batches),]])\n",
    "    y_trn_sub = pd.concat([y_trn_pos, y_trn_neg.iloc[i*int(n_neg/batches):(i+1)*int(n_neg/batches),]])\n",
    "#     X_trn_sub = X_trn.iloc[i*int(n_neg/batches):(i+1)*int(n_neg/batches),]\n",
    "#     y_trn_sub = y_trn.iloc[i*int(n_neg/batches):(i+1)*int(n_neg/batches),]\n",
    "    clf.set_params(n_estimators=(i+1)*trees_per_batch, warm_start=True, class_weight={0:len(y_trn_sub)/sum(y_trn_sub==0),1:len(y_trn_sub)/sum(y_trn_sub==1)})\n",
    "    clf.fit(X_trn_sub, y_trn_sub)\n",
    "    pred_tst = clf.predict_proba(X_tst)[:,1]\n",
    "    tst_auc.append(roc_auc_score(y_tst, pred_tst))\n",
    "    print(str(i+1)+\" test AUC:\", tst_auc[i],\", total time:\", time()-start)"
   ]
  },
  {
   "cell_type": "code",
   "execution_count": null,
   "metadata": {
    "collapsed": true
   },
   "outputs": [],
   "source": []
  }
 ],
 "metadata": {
  "kernelspec": {
   "display_name": "Python 3",
   "language": "python",
   "name": "python3"
  },
  "language_info": {
   "codemirror_mode": {
    "name": "ipython",
    "version": 3
   },
   "file_extension": ".py",
   "mimetype": "text/x-python",
   "name": "python",
   "nbconvert_exporter": "python",
   "pygments_lexer": "ipython3",
   "version": "3.5.3"
  }
 },
 "nbformat": 4,
 "nbformat_minor": 1
}
